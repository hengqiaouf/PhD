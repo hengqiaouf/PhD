{
 "cells": [
  {
   "cell_type": "code",
   "execution_count": 1,
   "metadata": {},
   "outputs": [],
   "source": [
    "import torch\n",
    "import sklearn\n",
    "import numpy as np\n",
    "from sklearn.svm import OneClassSVM\n",
    "from dataread import *\n",
    "import os"
   ]
  },
  {
   "cell_type": "code",
   "execution_count": 2,
   "metadata": {},
   "outputs": [],
   "source": [
    "cur_dir = os.getcwd()\n",
    "data_folder_dir = os.path.join(cur_dir, \"../data\") \n",
    "par_traindata=[0.7,0,0.3]\n",
    "par_anodata=[1,0,0]\n",
    "window_size=1"
   ]
  },
  {
   "cell_type": "code",
   "execution_count": 7,
   "metadata": {},
   "outputs": [
    {
     "name": "stdout",
     "output_type": "stream",
     "text": [
      "[1, 2, 3, 4, 5, 6, 7, 8, 9, 10, 11, 12, 13, 14, 15, 16]\n"
     ]
    },
    {
     "ename": "NameError",
     "evalue": "name 'FirmaData_select_subject' is not defined",
     "output_type": "error",
     "traceback": [
      "\u001b[0;31m---------------------------------------------------------------------------\u001b[0m",
      "\u001b[0;31mNameError\u001b[0m                                 Traceback (most recent call last)",
      "\u001b[0;32m<ipython-input-7-f765603f288c>\u001b[0m in \u001b[0;36m<module>\u001b[0;34m\u001b[0m\n\u001b[1;32m      7\u001b[0m     \u001b[0mdata_train\u001b[0m \u001b[0;34m=\u001b[0m \u001b[0mFirmaData_onesubject\u001b[0m\u001b[0;34m(\u001b[0m\u001b[0mdata_folder_dir\u001b[0m\u001b[0;34m,\u001b[0m \u001b[0mtrain_id\u001b[0m\u001b[0;34m,\u001b[0m\u001b[0mpar_traindata\u001b[0m\u001b[0;34m[\u001b[0m\u001b[0;36m0\u001b[0m\u001b[0;34m]\u001b[0m\u001b[0;34m,\u001b[0m\u001b[0mpar_traindata\u001b[0m\u001b[0;34m[\u001b[0m\u001b[0;36m1\u001b[0m\u001b[0;34m]\u001b[0m\u001b[0;34m,\u001b[0m\u001b[0mpar_traindata\u001b[0m\u001b[0;34m[\u001b[0m\u001b[0;36m2\u001b[0m\u001b[0;34m]\u001b[0m  \u001b[0;34m,\u001b[0m\u001b[0mwindow_size\u001b[0m\u001b[0;34m,\u001b[0m\u001b[0msubset\u001b[0m\u001b[0;34m=\u001b[0m\u001b[0;34m'train'\u001b[0m\u001b[0;34m)\u001b[0m\u001b[0;34m\u001b[0m\u001b[0m\n\u001b[1;32m      8\u001b[0m     \u001b[0mdata_test_normal\u001b[0m\u001b[0;34m=\u001b[0m \u001b[0mFirmaData_onesubject\u001b[0m\u001b[0;34m(\u001b[0m\u001b[0mdata_folder_dir\u001b[0m\u001b[0;34m,\u001b[0m \u001b[0mtrain_id\u001b[0m\u001b[0;34m,\u001b[0m\u001b[0mpar_traindata\u001b[0m\u001b[0;34m[\u001b[0m\u001b[0;36m0\u001b[0m\u001b[0;34m]\u001b[0m\u001b[0;34m,\u001b[0m\u001b[0mpar_traindata\u001b[0m\u001b[0;34m[\u001b[0m\u001b[0;36m1\u001b[0m\u001b[0;34m]\u001b[0m\u001b[0;34m,\u001b[0m\u001b[0mpar_traindata\u001b[0m\u001b[0;34m[\u001b[0m\u001b[0;36m2\u001b[0m\u001b[0;34m]\u001b[0m\u001b[0;34m,\u001b[0m\u001b[0mwindow_size\u001b[0m\u001b[0;34m,\u001b[0m\u001b[0msubset\u001b[0m\u001b[0;34m=\u001b[0m\u001b[0;34m'test'\u001b[0m\u001b[0;34m)\u001b[0m\u001b[0;34m\u001b[0m\u001b[0m\n\u001b[0;32m----> 9\u001b[0;31m     \u001b[0mdata_test_anomaly\u001b[0m \u001b[0;34m=\u001b[0m \u001b[0mFirmaData_select_subject\u001b[0m\u001b[0;34m(\u001b[0m\u001b[0mdata_folder_dir\u001b[0m\u001b[0;34m,\u001b[0m \u001b[0mwindow_size\u001b[0m\u001b[0;34m,\u001b[0m\u001b[0mpar_anodata\u001b[0m\u001b[0;34m[\u001b[0m\u001b[0;36m0\u001b[0m\u001b[0;34m]\u001b[0m\u001b[0;34m,\u001b[0m\u001b[0mpar_anodata\u001b[0m\u001b[0;34m[\u001b[0m\u001b[0;36m1\u001b[0m\u001b[0;34m]\u001b[0m\u001b[0;34m,\u001b[0m\u001b[0mpar_anodata\u001b[0m\u001b[0;34m[\u001b[0m\u001b[0;36m2\u001b[0m\u001b[0;34m]\u001b[0m\u001b[0;34m,\u001b[0m\u001b[0mtest_subject_list\u001b[0m\u001b[0;34m,\u001b[0m\u001b[0msubset\u001b[0m\u001b[0;34m=\u001b[0m\u001b[0;34m'train'\u001b[0m\u001b[0;34m)\u001b[0m\u001b[0;34m\u001b[0m\u001b[0m\n\u001b[0m\u001b[1;32m     10\u001b[0m     \u001b[0mdata_train\u001b[0m\u001b[0;34m=\u001b[0m\u001b[0mdata_train\u001b[0m\u001b[0;34m.\u001b[0m\u001b[0mdatamat\u001b[0m\u001b[0;34m\u001b[0m\u001b[0m\n\u001b[1;32m     11\u001b[0m     \u001b[0mdata_test_normal\u001b[0m\u001b[0;34m=\u001b[0m\u001b[0mdata_test_normal\u001b[0m\u001b[0;34m.\u001b[0m\u001b[0mdatamat\u001b[0m\u001b[0;34m\u001b[0m\u001b[0m\n",
      "\u001b[0;31mNameError\u001b[0m: name 'FirmaData_select_subject' is not defined"
     ]
    }
   ],
   "source": [
    "model = OneClassSVM(nu=0.1, kernel=\"rbf\", gamma=0.1,verbose=True)\n",
    "for train_id in range(17):\n",
    "    \n",
    "    test_subject_list=[*range(17)]\n",
    "    test_subject_list.remove(train_id)\n",
    "    print(test_subject_list)\n",
    "    data_train = FirmaData_onesubject(data_folder_dir, train_id,par_traindata[0],par_traindata[1],par_traindata[2]  ,window_size,subset='train')\n",
    "    data_test_normal= FirmaData_onesubject(data_folder_dir, train_id,par_traindata[0],par_traindata[1],par_traindata[2],window_size,subset='test')\n",
    "    data_test_anomaly = FirmaData_select_subject(data_folder_dir, window_size,par_anodata[0],par_anodata[1],par_anodata[2],test_subject_list,subset='train')\n",
    "    data_train=data_train.datamat\n",
    "    data_test_normal=data_test_normal.datamat\n",
    "    data_test_anomaly=data_test_anomaly.datamat\n",
    "    model.fit(data_train)\n",
    "    score_train=model.score_samples(data_train)\n",
    "    score_test_normal=model.score_samples(data_test_normal)\n",
    "    score_test_anomaly=model.score_samples(data_test_anomaly)\n",
    "    print(np.mean(score_train),np.mean(score_test_normal),np.mean(score_test_anomaly))\n"
   ]
  },
  {
   "cell_type": "code",
   "execution_count": null,
   "metadata": {},
   "outputs": [],
   "source": []
  }
 ],
 "metadata": {
  "kernelspec": {
   "display_name": "Python 3",
   "language": "python",
   "name": "python3"
  },
  "language_info": {
   "codemirror_mode": {
    "name": "ipython",
    "version": 3
   },
   "file_extension": ".py",
   "mimetype": "text/x-python",
   "name": "python",
   "nbconvert_exporter": "python",
   "pygments_lexer": "ipython3",
   "version": "3.5.2"
  }
 },
 "nbformat": 4,
 "nbformat_minor": 2
}
